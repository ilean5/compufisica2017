{
 "cells": [
  {
   "cell_type": "code",
   "execution_count": 2,
   "metadata": {},
   "outputs": [
    {
     "data": {
      "text/plain": [
       "e (generic function with 1 method)"
      ]
     },
     "execution_count": 2,
     "metadata": {},
     "output_type": "execute_result"
    }
   ],
   "source": [
    "# usamos la ecuacion de Bernoulli para aproximar el valor del numero pi. \n",
    "(1+1/n)^n\n",
    "\n",
    "function e(N)\n",
    "    suma = 0.0 \n",
    "    p = 0\n",
    "    for i ∈ 0:N\n",
    "        suma = (1+(1/i))^i \n",
    "    end\n",
    "    println(suma)\n",
    "end\n",
    "            \n",
    "    #nombramos la funcion e, usamos dos contadores que empezaran desde cero, y usamos un ciclo for, finalmente impriminos la suma "
   ]
  },
  {
   "cell_type": "code",
   "execution_count": 3,
   "metadata": {},
   "outputs": [
    {
     "name": "stdout",
     "output_type": "stream",
     "text": [
      "2.7182682371922975\n"
     ]
    }
   ],
   "source": [
    "e(100000)\n",
    "# lo probamos para cualquier n "
   ]
  },
  {
   "cell_type": "code",
   "execution_count": null,
   "metadata": {},
   "outputs": [],
   "source": []
  }
 ],
 "metadata": {
  "kernelspec": {
   "display_name": "Julia 0.6.0",
   "language": "julia",
   "name": "julia-0.6"
  },
  "language_info": {
   "file_extension": ".jl",
   "mimetype": "application/julia",
   "name": "julia",
   "version": "0.6.0"
  }
 },
 "nbformat": 4,
 "nbformat_minor": 2
}
