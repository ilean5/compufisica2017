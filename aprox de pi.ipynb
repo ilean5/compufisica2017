{
 "cells": [
  {
   "cell_type": "code",
   "execution_count": 2,
   "metadata": {},
   "outputs": [
    {
     "data": {
      "text/plain": [
       "Leibniz (generic function with 1 method)"
      ]
     },
     "execution_count": 2,
     "metadata": {},
     "output_type": "execute_result"
    }
   ],
   "source": [
    "# Se puede aproximar el numero pi usando la aproximacion de Leibniz, la que llamaremos ´´funcion leibniz´´\n",
    "function Leibniz(N)\n",
    "    suma=0.0\n",
    "    p=0.0\n",
    "    for n ∈ 0:N\n",
    "        suma = suma + (((-1)^n)) / ((2*n + 1))\n",
    "    end\n",
    "    p = 4*suma\n",
    "    #print(p)\n",
    "    return p\n",
    "end\n",
    "# vamos a usar dos contadores; suma y p, empezando desde 0 usando numeros flotantes. Luego usamos un ciclo for para indicar una  correspondencia en la funcion para que vaya sumando. luego se termina la funcion con un end  se despeja pi de la formula de leibniz, por lo que se tendra que multiplicar el resultado de nuestra ecuacion por 4. Finalmente se imprime p. "
   ]
  },
  {
   "cell_type": "code",
   "execution_count": 4,
   "metadata": {},
   "outputs": [
    {
     "data": {
      "text/plain": [
       "2.9760461760461765"
      ]
     },
     "execution_count": 4,
     "metadata": {},
     "output_type": "execute_result"
    }
   ],
   "source": [
    "Leibniz(5) # ahora lo podemos calcular para cualquier valor. "
   ]
  },
  {
   "cell_type": "code",
   "execution_count": 5,
   "metadata": {},
   "outputs": [
    {
     "data": {
      "text/plain": [
       "3.466666666666667"
      ]
     },
     "execution_count": 5,
     "metadata": {},
     "output_type": "execute_result"
    }
   ],
   "source": [
    "Leibniz(2)"
   ]
  }
 ],
 "metadata": {
  "kernelspec": {
   "display_name": "Julia 0.6.0",
   "language": "julia",
   "name": "julia-0.6"
  },
  "language_info": {
   "file_extension": ".jl",
   "mimetype": "application/julia",
   "name": "julia",
   "version": "0.6.0"
  }
 },
 "nbformat": 4,
 "nbformat_minor": 2
}
