{
 "cells": [
  {
   "cell_type": "markdown",
   "metadata": {},
   "source": [
    "# CRECIMIENTO EXPONENCIAL\n",
    "Se aplica a una magnitud tal que su variación en el tiempo es proporcional a su valor, lo que implica que crece cada vez más rápido en el tiempo, de acuerdo con la ecuación: p(t)=p_0*e^r*t"
   ]
  },
  {
   "cell_type": "markdown",
   "metadata": {},
   "source": [
    "# Ejemplo 1.\n",
    "\n",
    "Suponga que un cultivo de 100 bacterias se pone en una caja de petri y el cultivo se duplica en tamaño cada hora. Grafica la funcion que lo describe. "
   ]
  },
  {
   "cell_type": "code",
   "execution_count": 3,
   "metadata": {},
   "outputs": [],
   "source": [
    "using Plots"
   ]
  },
  {
   "cell_type": "code",
   "execution_count": 4,
   "metadata": {},
   "outputs": [
    {
     "data": {
      "text/plain": [
       "100"
      ]
     },
     "execution_count": 4,
     "metadata": {},
     "output_type": "execute_result"
    }
   ],
   "source": [
    "p_0=100 #la poblacion inicial de bacterias."
   ]
  },
  {
   "cell_type": "code",
   "execution_count": 5,
   "metadata": {},
   "outputs": [
    {
     "data": {
      "text/plain": [
       "2"
      ]
     },
     "execution_count": 5,
     "metadata": {},
     "output_type": "execute_result"
    }
   ],
   "source": [
    "r=2 # tasa de crecimiento (las bacterias se duplican)"
   ]
  },
  {
   "cell_type": "code",
   "execution_count": 6,
   "metadata": {},
   "outputs": [],
   "source": [
    "t = collect(0:0.125:20);\n",
    "\n",
    "# definimos el tiempo en intervalos de 0.25 de 0 a 20"
   ]
  },
  {
   "cell_type": "code",
   "execution_count": 24,
   "metadata": {},
   "outputs": [
    {
     "data": {
      "text/plain": [
       "161-element Array{Float64,1}:\n",
       "  0.0  \n",
       "  0.125\n",
       "  0.25 \n",
       "  0.375\n",
       "  0.5  \n",
       "  0.625\n",
       "  0.75 \n",
       "  0.875\n",
       "  1.0  \n",
       "  1.125\n",
       "  1.25 \n",
       "  1.375\n",
       "  1.5  \n",
       "  ⋮    \n",
       " 18.625\n",
       " 18.75 \n",
       " 18.875\n",
       " 19.0  \n",
       " 19.125\n",
       " 19.25 \n",
       " 19.375\n",
       " 19.5  \n",
       " 19.625\n",
       " 19.75 \n",
       " 19.875\n",
       " 20.0  "
      ]
     },
     "execution_count": 24,
     "metadata": {},
     "output_type": "execute_result"
    }
   ],
   "source": [
    "t"
   ]
  },
  {
   "cell_type": "code",
   "execution_count": 7,
   "metadata": {},
   "outputs": [
    {
     "data": {
      "text/plain": [
       "2.718281828459045"
      ]
     },
     "execution_count": 7,
     "metadata": {},
     "output_type": "execute_result"
    }
   ],
   "source": [
    "e=2.7182818284590452 "
   ]
  },
  {
   "cell_type": "code",
   "execution_count": 8,
   "metadata": {},
   "outputs": [],
   "source": [
    "P = zeros(t); # definimos a p a partir de 0. "
   ]
  },
  {
   "cell_type": "code",
   "execution_count": 9,
   "metadata": {},
   "outputs": [],
   "source": [
    "for i in eachindex(t)\n",
    "    P[i] = p_0*e^(r*t[i])\n",
    "end\n",
    "   #Se usa un ciclo para hacer una rega de correspondencia y poder graficar. Decimos que cada valor que tome p, sera igual a la ecuacion de crecimiento exponencial evaluada en esa t.   "
   ]
  },
  {
   "cell_type": "code",
   "execution_count": 11,
   "metadata": {},
   "outputs": [
    {
     "data": {
      "text/html": [
       "<script src=\"/opt/julia_packages/.julia/v0.6/Plots/src/backends/../../deps/plotly-latest.min.js\"></script>    <div id=\"6f77d184-9db8-4c6e-bf62-64e86a233fbe\" style=\"width:600px;height:400px;\"></div>\n",
       "    <script>\n",
       "    PLOT = document.getElementById('6f77d184-9db8-4c6e-bf62-64e86a233fbe');\n",
       "    Plotly.plot(PLOT, [{\"showlegend\":true,\"mode\":\"lines\",\"xaxis\":\"x\",\"colorbar\":{\"title\":\"\"},\"line\":{\"color\":\"rgba(0, 154, 250, 1.000)\",\"shape\":\"linear\",\"dash\":\"solid\",\"width\":2},\"y\":[100.0,128.40254166877415,164.87212707001282,211.7000016612675,271.8281828459045,349.0342957461841,448.1689070338065,575.4602676005729,738.9056098930649,948.7735836358524,1218.249396070347,1564.263188418817,2008.5536923187665,2579.033991719306,3311.5451958692306,4252.108200006278,5459.815003314423,7010.541234668784,9001.71313005218,11558.428452718763,14841.315910257657,19056.626845862993,24469.193226422034,31419.06602856941,40342.8793492735,51801.282466834185,66514.16330443615,85405.87625261513,109663.31584284583,140810.48482046952,180804.24144560625,232157.24146110556,298095.7987041727,382762.58214399044,491476.8840299132,631068.810808902,810308.392757538,1.0404565716560719e6,1.3359726829661867e6,1.7154228809290978e6,2.2026465794806704e6,2.828254192033496e6,3.6315502674246617e6,4.663002845352431e6,5.987414171519778e6,7.687991976467771e6,9.871577101076044e6,1.2675355900574334e7,1.6275479141900383e7,2.0898128886971284e7,2.683372865208743e7,3.4455189613782346e7,4.424133920089202e7,5.680700400224909e7,7.294163698477007e7,9.365891582325538e7,1.2026042841647759e8,1.5441744670851395e8,1.9827592635375673e8,2.5459132895553043e8,3.269017372472108e8,4.197501393847965e8,5.389698476283008e8,6.920509831830574e8,8.886110520507865e8,1.1409991763828435e9,1.4650719428953505e9,1.8811896119537213e9,2.4154952753575277e9,3.1015573274482203e9,3.982478439757619e9,5.113603538059723e9,6.565996913733045e9,8.430906923126498e9,1.0825498775023066e10,1.3900215575451628e10,1.7848230096318707e10,2.2917581086564316e10,2.942675660415085e10,3.778470341041354e10,4.851651954097897e10,6.229644421984448e10,7.999021774755045e10,1.0270947267424164e11,1.3188157344832132e11,1.6933929230041577e11,2.1743595535764862e11,2.791932931810019e11,3.5849128461315875e11,4.6031192110433484e11,5.910522063023284e11,7.589260554815562e11,9.74480344624889e11,1.251257530560987e12,1.6066464720622458e12,2.062974905759615e12,2.6489122129843438e12,3.4012706080464697e12,4.3673179097646353e12,5.607747198893372e12,7.200489933738577e12,9.245612087524564e12,1.187160091321695e13,1.5243437309343963e13,1.957296094288385e13,2.5132179330499324e13,3.2270357037115438e13,4.143595864124434e13,5.320482406017978e13,6.831634638367033e13,8.771992513187638e13,1.1263461341927503e14,1.4462570642914728e14,1.857030829614448e14,2.3844747847976744e14,3.061726229131247e14,3.931334297144036e14,5.04793315902918e14,6.48167447793431e14,8.322634772363901e14,1.0686474581524445e15,1.3721704977464882e15,1.7619017951355602e15,2.2623266866618175e15,2.904884966524738e15,3.729946129571882e15,4.789345633246365e15,6.149641522390778e15,7.896296018268056e15,1.0139044785146394e16,1.3018791205063272e16,1.6716458801852072e16,2.146435797859157e16,2.756078119739589e16,3.5388743561225924e16,4.5440046197258744e16,5.8346174252745384e16,7.491797070701696e16,9.619657855447746e16,1.2351885186234797e17,1.586013452313428e17,2.0364815839791126e17,2.6148941144456915e17,3.357590504895452e17,4.311231547115187e17,5.535730883721914e17,7.10801915464223e17,9.126877256863939e17,1.1719142372802588e18,1.504767666846081e18,1.9321599304402796e18,2.4809424597909376e18,3.185593175711369e18,4.090382604840417e18,5.252155228592505e18,6.743900805902192e18,8.659340042399357e18,1.1118812706182679e19,1.4276838118129168e19,1.8331823013614238e19,2.353852668370195e19],\"type\":\"scatter\",\"name\":\"y1\",\"yaxis\":\"y\",\"x\":[0.0,0.125,0.25,0.375,0.5,0.625,0.75,0.875,1.0,1.125,1.25,1.375,1.5,1.625,1.75,1.875,2.0,2.125,2.25,2.375,2.5,2.625,2.75,2.875,3.0,3.125,3.25,3.375,3.5,3.625,3.75,3.875,4.0,4.125,4.25,4.375,4.5,4.625,4.75,4.875,5.0,5.125,5.25,5.375,5.5,5.625,5.75,5.875,6.0,6.125,6.25,6.375,6.5,6.625,6.75,6.875,7.0,7.125,7.25,7.375,7.5,7.625,7.75,7.875,8.0,8.125,8.25,8.375,8.5,8.625,8.75,8.875,9.0,9.125,9.25,9.375,9.5,9.625,9.75,9.875,10.0,10.125,10.25,10.375,10.5,10.625,10.75,10.875,11.0,11.125,11.25,11.375,11.5,11.625,11.75,11.875,12.0,12.125,12.25,12.375,12.5,12.625,12.75,12.875,13.0,13.125,13.25,13.375,13.5,13.625,13.75,13.875,14.0,14.125,14.25,14.375,14.5,14.625,14.75,14.875,15.0,15.125,15.25,15.375,15.5,15.625,15.75,15.875,16.0,16.125,16.25,16.375,16.5,16.625,16.75,16.875,17.0,17.125,17.25,17.375,17.5,17.625,17.75,17.875,18.0,18.125,18.25,18.375,18.5,18.625,18.75,18.875,19.0,19.125,19.25,19.375,19.5,19.625,19.75,19.875,20.0]}], {\"showlegend\":true,\"xaxis\":{\"gridwidth\":0.5,\"tickvals\":[0.0,5.0,10.0,15.0,20.0],\"visible\":true,\"ticks\":\"inside\",\"tickmode\":\"array\",\"domain\":[0.32832093904928544,0.9934383202099737],\"linecolor\":\"rgba(0, 0, 0, 1.000)\",\"showgrid\":true,\"title\":\"Tiempo (hr)\",\"mirror\":false,\"tickangle\":0,\"showline\":true,\"gridcolor\":\"rgba(0, 0, 0, 0.100)\",\"titlefont\":{\"color\":\"rgba(0, 0, 0, 1.000)\",\"family\":\"sans-serif\",\"size\":15},\"tickcolor\":\"rgb(0, 0, 0)\",\"ticktext\":[\"0\",\"5\",\"10\",\"15\",\"20\"],\"zeroline\":false,\"type\":\"-\",\"tickfont\":{\"color\":\"rgba(0, 0, 0, 1.000)\",\"family\":\"sans-serif\",\"size\":11},\"zerolinecolor\":\"rgba(0, 0, 0, 1.000)\",\"anchor\":\"y\"},\"paper_bgcolor\":\"rgba(255, 255, 255, 1.000)\",\"annotations\":[{\"yanchor\":\"top\",\"xanchor\":\"center\",\"rotation\":-0.0,\"y\":1.0,\"font\":{\"color\":\"rgba(0, 0, 0, 1.000)\",\"family\":\"sans-serif\",\"size\":20},\"yref\":\"paper\",\"showarrow\":false,\"text\":\"Crecimiento exponencial\",\"xref\":\"paper\",\"x\":0.6608796296296295}],\"height\":400,\"margin\":{\"l\":0,\"b\":20,\"r\":0,\"t\":20},\"plot_bgcolor\":\"rgba(255, 255, 255, 1.000)\",\"yaxis\":{\"gridwidth\":0.5,\"tickvals\":[5.0e18,1.0e19,1.5e19,2.0e19],\"visible\":true,\"ticks\":\"inside\",\"tickmode\":\"array\",\"domain\":[0.07581474190726165,0.9415463692038496],\"linecolor\":\"rgba(0, 0, 0, 1.000)\",\"showgrid\":true,\"title\":\"Poblacion (bac)\",\"mirror\":false,\"tickangle\":0,\"showline\":true,\"gridcolor\":\"rgba(0, 0, 0, 0.100)\",\"titlefont\":{\"color\":\"rgba(0, 0, 0, 1.000)\",\"family\":\"sans-serif\",\"size\":15},\"tickcolor\":\"rgb(0, 0, 0)\",\"ticktext\":[\"5000000000000000000\",\"10000000000000000000\",\"15000000000000000000\",\"20000000000000000000\"],\"zeroline\":false,\"type\":\"-\",\"tickfont\":{\"color\":\"rgba(0, 0, 0, 1.000)\",\"family\":\"sans-serif\",\"size\":11},\"zerolinecolor\":\"rgba(0, 0, 0, 1.000)\",\"anchor\":\"x\"},\"legend\":{\"bordercolor\":\"rgba(0, 0, 0, 1.000)\",\"bgcolor\":\"rgba(255, 255, 255, 1.000)\",\"font\":{\"color\":\"rgba(0, 0, 0, 1.000)\",\"family\":\"sans-serif\",\"size\":11},\"y\":1.0,\"x\":1.0},\"width\":600});\n",
       "    </script>\n"
      ]
     },
     "execution_count": 11,
     "metadata": {},
     "output_type": "execute_result"
    }
   ],
   "source": [
    "plot(t,P,w=2)\n",
    "title!(\"Crecimiento exponencial\")\n",
    "xaxis!(\"Tiempo (hr)\")\n",
    "yaxis!(\"Poblacion (bac)\")"
   ]
  },
  {
   "cell_type": "markdown",
   "metadata": {},
   "source": []
  }
 ],
 "metadata": {
  "kernelspec": {
   "display_name": "Julia 0.6.0",
   "language": "julia",
   "name": "julia-0.6"
  },
  "language_info": {
   "file_extension": ".jl",
   "mimetype": "application/julia",
   "name": "julia",
   "version": "0.6.0"
  }
 },
 "nbformat": 4,
 "nbformat_minor": 2
}
