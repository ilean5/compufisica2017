{
 "cells": [
  {
   "cell_type": "markdown",
   "metadata": {},
   "source": [
    "# ¿QUE ES UN SISTEMA DE PUNTO FLOTANTE?\n",
    "\n",
    "Como la memoria de los ordenadores es limitada, no puedes almacenar números con precisión infinita, no importa si usas fracciones binarias o decimales: en algún momento tienes que cortar. Pero ¿cuánta precisión se necesita? ¿Y dónde se necesita? ¿Cuántos dígitos enteros y cuántos fraccionarios? El formato tiene que ser preciso para números de órdenes de magnitud muy diferentes. Sin embargo, solo se necesita precisión relativa. Para satisfacer al físico, debe ser posible hacer cálculos que involucren números de órdenes muy dispares.\n",
    "Básicamente, tener un número fijo de dígitos enteros y fraccionarios no es útil ─ y la solución es un formato con un punto flotante.\n",
    "La idea es descomponer el número en dos partes:\n",
    "•\tUna mantisa (también llamada coeficiente o significando) que contiene los dígitos del número. Mantisas negativas representan números negativos.\n",
    "•\tUn exponente que indica dónde se coloca el punto decimal (o binario) en relación al inicio de la mantisa. Exponentes negativos representan números menores que uno.\n",
    "Este formato cumple todos los requisitos:\n",
    "•\tPuede representar números de órdenes de magnitud enormemente dispares (limitado por la longitud del exponente).\n",
    "•\tProporciona la misma precisión relativa para todos los órdenes (limitado por la longitud de la mantisa).\n",
    "•\tPermite cálculos entre magnitudes: multiplicar un número muy grande y uno muy pequeño conserva la precisión de ambos en el resultado.\n",
    "Los números de coma flotante decimales normalmente se expresan en notación científica con un punto explícito siempre entre el primer y el segundo dígitos. El exponente o bien se escribe explícitamente incluyendo la base, o se usa una e para separarlo de la mantisa."
   ]
  },
  {
   "cell_type": "markdown",
   "metadata": {},
   "source": [
    "# DIFERENCIA ENTRE SISTEMAS OPERATIVS DE 32 Y 64 BITS \n",
    " \n",
    " L a principal diferencia entre un procesador de 32 bits y uno de 64 bits es que el primero puede procesar secuencia de bits de hasta 32 bits, mientras que los procesadores de 64 bits pueden extender al doble esta capacidad. Como sabemos, el procesador de una PC es el encargado de realizar todos los cálculos lógicos y matemáticos con el fin de obtener los resultados solicitados por el usuario, y para ello deben manejar paquetes de información a una determinada velocidad. En este punto la principal diferencia entre ambas plataformas es que en el caso de los procesadores de 64 bits, estos pueden trabajar con el doble de información en el mismo ciclo de reloj que uno de 32 bits, lo que les permite pueden acceder a mayor capacidad de memoria y procesar bloques de datos mucho más grandes, aumentado el rendimiento y la velocidad de proceso general.\n",
    "Otra diferencia, y por la cual muchos sistemas profesionales prefieren una arquitectura de 64 bits, es que este tipo de procesadores pueden direccionar teóricamente hasta 16 exabytes de memoria, mientras que los procesadores de 32 bits sólo pueden direccionar 4 Gb, lo cual en sistemas de poco rendimiento como PC de escritos es más que suficiente.\n",
    "En cuanto a los sistemas operativos, concretamente Windows, la más importante diferencia entre las versiones 32 y 64 bits es que el primero admite hasta 4 Gb. de RAM, de los cuales aprovechará tan sólo 3.25 Gb. En el caso de los sistemas operativos de 64 bits estos admiten hasta 192 Gb. de RAM.\n",
    "En cuanto a los cálculos matemáticos también habrá ventajas, ya que un procesador de 32 bits puede representar números desde 0 hasta 4,294,967,295; y uno de 64 bits incrementará la capacidad logrando que se puedan representar números desde 0 hasta 18,446744,073,709,551,615. Obviamente esto significa que las computadoras podrán hacer operaciones con cantidades mayores y que los cálculos con cantidades pequeñas sean más eficientes.\n"
   ]
  },
  {
   "cell_type": "markdown",
   "metadata": {},
   "source": [
    "# ¿QUE ES ALU?\n",
    "\n",
    "Definimos genéricamente a la unidad ALU (por sus siglas en inglés Arithmetic Logic Unit) como una de las unidades que forman parte de la Unidad Central de Procesos (es decir, del Procesador, Microprocesador o CPU - Central Processor Unit, por sus siglas en inglés) mediante la cual es posible realizar una gran cantidad de operaciones aritméticas básicas (Suma, Resta, División y Multiplicación) además de realizar algunas operaciones Lógicas (Yes, Or, Not, And - Es decir, si; y, o, no) entre dos números o dos conjuntos de números. \n",
    "\n",
    "En informática, la Unidad Aritmética Lógica forma parte del circuito digital del procesador indefectiblemente, teniendo además presencia en otros Circuitos Electrónicos que necesiten realizar estas operaciones, teniendo por ejemplo la utilización de un Reloj Digital, donde estos cálculos lógicos se basan en dos funcionalidades básicas: \n",
    "\n",
    "1)Sumar de a 1 al tiempo actual (para los Segundos, Minutos y las Horas)  Comprobación de la activación o no activación del 2)sonido de la alarma \n",
    "3)Cambio de Hora y Minutos de acuerdo al sistema hexadecimal \n",
    "\n",
    "Pero esta unidad es generalmente utilizada en circuitos de alta complejidad, cubriendo no solo operaciones matemáticas simples, sino una gran cantidad de cálculos por segundos, siendo en el caso de los últimos aquellos que son conocidos como Microprocesadores, y que como hemos dicho, son el cerebro de un ordenador y te toda la información que se procesa a través de él.\n"
   ]
  },
  {
   "cell_type": "markdown",
   "metadata": {},
   "source": [
    "# ¿QUE ES UN ALGORITM Y SU ESTABILIDAD? \n",
    "\n",
    "Un algoritmo es una secuencia de pasos lógicos necesarios para llevar a cabo una tarea específica, como la solución de un problema. Los algoritmos son independientes tanto del lenguaje de programación en que se expresan como de la computadora que los ejecuta. En cada problema el algoritmo se puede expresar en un lenguaje diferente de programación y ejecutarse en una computadora distinta; sin embargo el algoritmo será siempre el mismo.\n",
    "Para llegar a la realización de un programa es necesario el diseño previo de un algoritmo, de modo que sin algoritmo no puede existir un programa.\n",
    "Las características fundamentales que debe cumplir todo algoritmo son:\n",
    "•\tUn algoritmo debe ser preciso e indicar el orden de realización de cada paso.\n",
    "•\tUn algoritmo debe estar definido. Si se sigue un algoritmo dos veces, se debe obtener el mismo resultado cada vez.\n",
    "•\tUn algoritmo debe ser finito. Si se sigue un algoritmo, se debe terminar en algún momento; o sea debe de tener un número finito de pasos.\n",
    "La definición de un algoritmo debe describir tres partes: Entrada, Proceso y Salida.\n",
    "Un algoritmo estable es el que produce una respuesta casi correcta a una pregunta casi correcta.\n",
    "la estabilidad numérica es una propiedad de los algoritmos numéricos. Describe cómo los errores en los datos de entrada se propagan a través del algoritmo. En un método estable, los errores debidos a las aproximaciones se atenúan a medida que la computación procede. En un método inestable, cualquier error en el procesamiento se magnifica conforme el cálculo procede. Métodos inestables generan rápidamente anomalías y son inútiles para el procesamiento numérico.\n",
    "La estabilidad numérica de un método junto con el número condición (en:condition number) define cuán buen resultado podemos obtener usando métodos aproximados para calcular cierto problema matemático.\n"
   ]
  },
  {
   "cell_type": "markdown",
   "metadata": {},
   "source": [
    "# FUENTES\n",
    "•\thttp://mmc2.geofisica.unam.mx/cursos/mcst-2007-II/arch/SisNum.pdf\n",
    "•\thttp://puntoflotante.org/formats/fp/\n",
    "•\thttps://www.mastermagazine.info/termino/3824.php\n",
    "•\thttp://www.ehu.eus/izaballa/Ana_Matr/Apuntes/lec5.pdf\n",
    "•\thttps://es.wikipedia.org/wiki/Estabilidad_num%C3%A9rica\n",
    "\n"
   ]
  },
  {
   "cell_type": "code",
   "execution_count": null,
   "metadata": {
    "collapsed": true
   },
   "outputs": [],
   "source": []
  },
  {
   "cell_type": "code",
   "execution_count": null,
   "metadata": {
    "collapsed": true
   },
   "outputs": [],
   "source": []
  },
  {
   "cell_type": "code",
   "execution_count": null,
   "metadata": {
    "collapsed": true
   },
   "outputs": [],
   "source": []
  }
 ],
 "metadata": {
  "kernelspec": {
   "display_name": "Julia 0.5.2",
   "language": "julia",
   "name": "julia-0.5"
  },
  "language_info": {
   "file_extension": ".jl",
   "mimetype": "application/julia",
   "name": "julia",
   "version": "0.5.2"
  }
 },
 "nbformat": 4,
 "nbformat_minor": 2
}
