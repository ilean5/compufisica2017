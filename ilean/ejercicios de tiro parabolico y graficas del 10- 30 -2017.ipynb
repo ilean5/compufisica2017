{
 "cells": [
  {
   "cell_type": "code",
   "execution_count": 5,
   "metadata": {},
   "outputs": [],
   "source": [
    "t = collect(0:0.125:20); # definimos los valores del tiempo, que iran de 0 a 20 en tiempos de 0.25 s"
   ]
  },
  {
   "cell_type": "code",
   "execution_count": 3,
   "metadata": {},
   "outputs": [
    {
     "data": {
      "text/plain": [
       "9.81"
      ]
     },
     "execution_count": 3,
     "metadata": {},
     "output_type": "execute_result"
    }
   ],
   "source": [
    "g = 9.81 #m/s^2"
   ]
  },
  {
   "cell_type": "code",
   "execution_count": 7,
   "metadata": {},
   "outputs": [
    {
     "data": {
      "text/plain": [
       "100"
      ]
     },
     "execution_count": 7,
     "metadata": {},
     "output_type": "execute_result"
    }
   ],
   "source": [
    "v_0 = 100 #suponemos una velocidad inicial de 100 m/s"
   ]
  },
  {
   "cell_type": "code",
   "execution_count": 9,
   "metadata": {},
   "outputs": [
    {
     "data": {
      "text/plain": [
       "0.7853981633974483"
      ]
     },
     "execution_count": 9,
     "metadata": {},
     "output_type": "execute_result"
    }
   ],
   "source": [
    "θ= π/4 #angulo"
   ]
  },
  {
   "cell_type": "code",
   "execution_count": 11,
   "metadata": {},
   "outputs": [
    {
     "data": {
      "text/plain": [
       "-9.81"
      ]
     },
     "execution_count": 11,
     "metadata": {},
     "output_type": "execute_result"
    }
   ],
   "source": [
    "a = -g #la aceleracion sera negativa porque ira en sentido contrario y es igual al valor de la gravedad. "
   ]
  },
  {
   "cell_type": "code",
   "execution_count": 12,
   "metadata": {},
   "outputs": [],
   "source": [
    "x = zeros(t);\n",
    "y = zeros(t); \n",
    "# se definen los valores de X e Y  empezando en ceros para cada valor del tiempo dado. "
   ]
  },
  {
   "cell_type": "code",
   "execution_count": 14,
   "metadata": {},
   "outputs": [
    {
     "data": {
      "text/plain": [
       "16.375"
      ]
     },
     "execution_count": 14,
     "metadata": {},
     "output_type": "execute_result"
    }
   ],
   "source": [
    "t[132] # hacemos una pueba para el t de 132"
   ]
  },
  {
   "cell_type": "code",
   "execution_count": 16,
   "metadata": {},
   "outputs": [],
   "source": [
    "for i in eachindex(t)\n",
    "    x[i] = v_0*cos(θ)*t[i]\n",
    "end\n",
    "# para cada i de los valores en x en cada t, se obtendra el valor de x con la ecuacion de tiro parabolico "
   ]
  },
  {
   "cell_type": "code",
   "execution_count": 19,
   "metadata": {},
   "outputs": [
    {
     "data": {
      "text/plain": [
       "161-element Array{Float64,1}:\n",
       "    0.0    \n",
       "    8.83883\n",
       "   17.6777 \n",
       "   26.5165 \n",
       "   35.3553 \n",
       "   44.1942 \n",
       "   53.033  \n",
       "   61.8718 \n",
       "   70.7107 \n",
       "   79.5495 \n",
       "   88.3883 \n",
       "   97.2272 \n",
       "  106.066  \n",
       "    ⋮      \n",
       " 1316.99   \n",
       " 1325.83   \n",
       " 1334.66   \n",
       " 1343.5    \n",
       " 1352.34   \n",
       " 1361.18   \n",
       " 1370.02   \n",
       " 1378.86   \n",
       " 1387.7    \n",
       " 1396.54   \n",
       " 1405.37   \n",
       " 1414.21   "
      ]
     },
     "execution_count": 19,
     "metadata": {},
     "output_type": "execute_result"
    }
   ],
   "source": [
    "x"
   ]
  },
  {
   "cell_type": "code",
   "execution_count": 21,
   "metadata": {},
   "outputs": [],
   "source": [
    "for i in eachindex(t)\n",
    "    x[i] = v_0*cos(θ)*t[i]\n",
    "    y[i] = (-(0.5*g*t[i]^2)+v_0*sin(θ)*t[i])\n",
    "end\n",
    "# de nuevo, usamos for para hacer una correspondencia de valores y poder grafcar. "
   ]
  },
  {
   "cell_type": "code",
   "execution_count": 22,
   "metadata": {},
   "outputs": [],
   "source": [
    "using Plots"
   ]
  },
  {
   "cell_type": "code",
   "execution_count": 25,
   "metadata": {},
   "outputs": [
    {
     "data": {
      "text/html": [
       "<script src=\"/opt/julia_packages/.julia/v0.6/Plots/src/backends/../../deps/plotly-latest.min.js\"></script>    <div id=\"dd479779-08b1-4ca8-8dd7-7826233a0e18\" style=\"width:600px;height:400px;\"></div>\n",
       "    <script>\n",
       "    PLOT = document.getElementById('dd479779-08b1-4ca8-8dd7-7826233a0e18');\n",
       "    Plotly.plot(PLOT, [{\"showlegend\":true,\"mode\":\"lines\",\"xaxis\":\"x\",\"colorbar\":{\"title\":\"\"},\"line\":{\"color\":\"rgba(0, 154, 250, 1.000)\",\"shape\":\"linear\",\"dash\":\"solid\",\"width\":2},\"y\":[0.0,8.762194139831843,17.371107029663687,25.826738669495526,34.12908905932737,42.278158199159215,50.27394608899105,58.1164527288229,65.80567811865474,73.34162225848658,80.72428514831843,87.95366678815027,95.02976717798211,101.95258631781395,108.72212420764579,115.33838084747765,121.80135623730948,128.1110503771413,134.26746326697318,140.270594906805,146.12044529663686,151.8170144364687,157.36030232630054,162.75030896613237,167.9870343559642,173.07047849579607,178.0006413856279,182.77752302545974,187.40112341529158,191.87144255512345,196.1884804449553,200.3522370847871,204.36271247461895,208.21990661445082,211.92381950428262,215.47445114411448,218.87180153394632,222.1158706737782,225.20665856361,228.14416520344184,230.92839059327372,233.55933473310552,236.03699762293738,238.36137926276922,240.5324796526011,242.5502987924329,244.41483668226473,246.1260933220966,247.6840687119284,249.08876285176026,250.34017574159213,251.43830738142398,252.38315777125578,253.17472691108765,253.8130148009195,254.29802144075137,254.62974683058317,254.808190970415,254.83335386024686,254.70523550007874,254.4238358899106,253.98915502974234,253.4011929195742,252.65994955940607,251.7654249492379,250.71761908906979,249.51653197890164,248.16216361873347,246.65451400856523,244.99358314839708,243.17937103822896,241.21187767806083,239.09110306789267,236.8170472077245,234.38971009755636,231.80909173738814,229.07519212721996,226.18801126705182,223.1475491568837,219.95380579671553,216.60678118654744,213.10647532637927,209.45288821621102,205.64601985604293,201.68587024587475,197.57243938570662,193.3057272755384,188.88573391537034,184.3124593052022,179.58590344503386,174.7060663348658,169.67294797469765,164.48654836452943,159.14686750436135,153.6539053941932,148.0076620340251,142.20813742385678,136.25533156368863,130.1492444535205,123.88987609335243,117.47722648318427,110.91129562301603,104.19208351284794,97.31959015267978,90.29381554251154,83.11475968234345,75.78242257217528,68.29680421200715,60.657904601838936,52.86572374167088,44.92026163150274,36.82151827133441,28.569493661166348,20.164187800998207,11.605600690829988,2.893732330661919,-5.9714172795063405,-14.98984813967445,-24.161560249842523,-33.48655361001079,-42.96482822017879,-52.59638408034721,-62.38122119051536,-72.31933955068348,-82.41073916085156,-92.65542002101961,-103.05338213118785,-113.60462549135605,-124.30915010152421,-135.16695596169257,-146.17804307186043,-157.3424114320287,-168.66006104219673,-180.13099190236494,-191.7552040125331,-203.53269737270125,-215.46347198286958,-227.54752784303764,-239.7848649532059,-252.1754833133739,-264.71938292354207,-277.4165637837102,-290.2670258938783,-303.2707692540466,-316.42779386421466,-329.7380997243829,-343.2016868345511,-356.81855519471924,-370.58870480488736,-384.51213566505544,-398.5888477752237,-412.8188411353917,-427.20211574556015,-441.7386716057281,-456.42850871589644,-471.2716270760643,-486.2680266862326,-501.41770754640083,-516.720669656569,-532.1769130167372,-547.7864376269051],\"type\":\"scatter\",\"name\":\"y1\",\"yaxis\":\"y\",\"x\":[0.0,8.838834764831844,17.67766952966369,26.516504294495533,35.35533905932738,44.19417382415922,53.033008588991066,61.87184335382291,70.71067811865476,79.5495128834866,88.38834764831844,97.22718241315029,106.06601717798213,114.90485194281398,123.74368670764582,132.58252147247765,141.4213562373095,150.26019100214137,159.0990257669732,167.93786053180503,176.7766952966369,185.61553006146875,194.45436482630058,203.2931995911324,212.13203435596427,220.97086912079612,229.80970388562795,238.64853865045978,247.48737341529164,256.3262081801235,265.1650429449553,274.00387770978716,282.842712474619,291.6815472394509,300.52038200428274,309.35921676911454,318.1980515339464,327.03688629877826,335.87572106361006,344.7145558284419,353.5533905932738,362.39222535810563,371.2310601229375,380.0698948877693,388.90872965260115,397.747564417433,406.5863991822648,415.4252339470967,424.26406871192853,433.1029034767604,441.94173824159225,450.78057300642405,459.6194077712559,468.45824253608777,477.29707730091957,486.1359120657514,494.9747468305833,503.81358159541514,512.652416360247,521.4912511250789,530.3300858899106,539.1689206547425,548.0077554195743,556.8465901844062,565.685424949238,574.5242597140699,583.3630944789018,592.2019292437336,601.0407640085655,609.8795987733972,618.7184335382291,627.5572683030609,636.3961030678928,645.2349378327247,654.0737725975565,662.9126073623884,671.7514421272201,680.590276892052,689.4291116568838,698.2679464217157,707.1067811865476,715.9456159513794,724.7844507162113,733.6232854810431,742.462120245875,751.3009550107067,760.1397897755386,768.9786245403704,777.8174593052023,786.6562940700342,795.495128834866,804.3339635996979,813.1727983645296,822.0116331293615,830.8504678941933,839.6893026590252,848.5281374238571,857.3669721886889,866.2058069535208,875.0446417183526,883.8834764831845,892.7223112480162,901.5611460128481,910.39998077768,919.2388155425118,928.0776503073437,936.9164850721755,945.7553198370074,954.5941546018391,963.432989366671,972.2718241315029,981.1106588963347,989.9494936611666,998.7883284259984,1007.6271631908303,1016.4659979556621,1025.304832720494,1034.1436674853258,1042.9825022501577,1051.8213370149895,1060.6601717798212,1069.4990065446532,1078.337841309485,1087.176676074317,1096.0155108391486,1104.8543456039806,1113.6931803688124,1122.5320151336443,1131.370849898476,1140.2096846633078,1149.0485194281398,1157.8873541929715,1166.7261889578035,1175.5650237226353,1184.4038584874672,1193.242693252299,1202.081528017131,1210.9203627819627,1219.7591975467944,1228.5980323116264,1237.4368670764582,1246.2757018412901,1255.1145366061219,1263.9533713709538,1272.7922061357856,1281.6310409006173,1290.4698756654493,1299.308710430281,1308.147545195113,1316.9863799599448,1325.8252147247767,1334.6640494896085,1343.5028842544402,1352.3417190192722,1361.180553784104,1370.019388548936,1378.8582233137677,1387.6970580785996,1396.5358928434314,1405.3747276082634,1414.213562373095]}], {\"showlegend\":true,\"xaxis\":{\"gridwidth\":0.5,\"tickvals\":[0.0,250.0,500.0,750.0,1000.0,1250.0],\"visible\":true,\"ticks\":\"inside\",\"tickmode\":\"array\",\"domain\":[0.09128390201224845,0.9934383202099738],\"linecolor\":\"rgba(0, 0, 0, 1.000)\",\"showgrid\":true,\"title\":\"position en x (m)\",\"mirror\":false,\"tickangle\":0,\"showline\":true,\"gridcolor\":\"rgba(0, 0, 0, 0.100)\",\"titlefont\":{\"color\":\"rgba(0, 0, 0, 1.000)\",\"family\":\"sans-serif\",\"size\":15},\"tickcolor\":\"rgb(0, 0, 0)\",\"ticktext\":[\"0\",\"250\",\"500\",\"750\",\"1000\",\"1250\"],\"zeroline\":false,\"type\":\"-\",\"tickfont\":{\"color\":\"rgba(0, 0, 0, 1.000)\",\"family\":\"sans-serif\",\"size\":11},\"zerolinecolor\":\"rgba(0, 0, 0, 1.000)\",\"anchor\":\"y\"},\"paper_bgcolor\":\"rgba(255, 255, 255, 1.000)\",\"annotations\":[{\"yanchor\":\"top\",\"xanchor\":\"center\",\"rotation\":-0.0,\"y\":1.0,\"font\":{\"color\":\"rgba(0, 0, 0, 1.000)\",\"family\":\"sans-serif\",\"size\":20},\"yref\":\"paper\",\"showarrow\":false,\"text\":\"tiro p\",\"xref\":\"paper\",\"x\":0.5423611111111111}],\"height\":400,\"margin\":{\"l\":0,\"b\":20,\"r\":0,\"t\":20},\"plot_bgcolor\":\"rgba(255, 255, 255, 1.000)\",\"yaxis\":{\"gridwidth\":0.5,\"tickvals\":[-400.0,-200.0,0.0,200.0],\"visible\":true,\"ticks\":\"inside\",\"tickmode\":\"array\",\"domain\":[0.07581474190726165,0.9415463692038496],\"linecolor\":\"rgba(0, 0, 0, 1.000)\",\"showgrid\":true,\"title\":\"posicion en y (m)\",\"mirror\":false,\"tickangle\":0,\"showline\":true,\"gridcolor\":\"rgba(0, 0, 0, 0.100)\",\"titlefont\":{\"color\":\"rgba(0, 0, 0, 1.000)\",\"family\":\"sans-serif\",\"size\":15},\"tickcolor\":\"rgb(0, 0, 0)\",\"ticktext\":[\"-400\",\"-200\",\"0\",\"200\"],\"zeroline\":false,\"type\":\"-\",\"tickfont\":{\"color\":\"rgba(0, 0, 0, 1.000)\",\"family\":\"sans-serif\",\"size\":11},\"zerolinecolor\":\"rgba(0, 0, 0, 1.000)\",\"anchor\":\"x\"},\"legend\":{\"bordercolor\":\"rgba(0, 0, 0, 1.000)\",\"bgcolor\":\"rgba(255, 255, 255, 1.000)\",\"font\":{\"color\":\"rgba(0, 0, 0, 1.000)\",\"family\":\"sans-serif\",\"size\":11},\"y\":1.0,\"x\":1.0},\"width\":600});\n",
       "    </script>\n"
      ]
     },
     "execution_count": 25,
     "metadata": {},
     "output_type": "execute_result"
    }
   ],
   "source": [
    "plot(x,y,w=2)\n",
    "title!(\"tiro p\")\n",
    "xaxis!(\"position en x (m)\")\n",
    "yaxis!(\"posicion en y (m)\") \n",
    "# graficamos con la funcion ´´plot´´ los valores de x e y, con un ancho de 2. Indicando el titulo de la grafica y los nombres de los ejes. "
   ]
  },
  {
   "cell_type": "code",
   "execution_count": 26,
   "metadata": {},
   "outputs": [
    {
     "data": {
      "text/plain": [
       "Plots.GRBackend()"
      ]
     },
     "execution_count": 26,
     "metadata": {},
     "output_type": "execute_result"
    }
   ],
   "source": [
    "gr()"
   ]
  },
  {
   "cell_type": "code",
   "execution_count": 28,
   "metadata": {},
   "outputs": [
    {
     "data": {
      "text/html": [
       "<?xml version=\"1.0\" encoding=\"utf-8\"?>\n",
       "<svg xmlns=\"http://www.w3.org/2000/svg\" xmlns:xlink=\"http://www.w3.org/1999/xlink\" width=\"600\" height=\"400\" viewBox=\"0 0 600 400\">\n",
       "<defs>\n",
       "  <clipPath id=\"clip00\">\n",
       "    <rect x=\"0\" y=\"0\" width=\"600\" height=\"400\"/>\n",
       "  </clipPath>\n",
       "</defs>\n",
       "<polygon clip-path=\"url(#clip00)\" points=\"\n",
       "0,400 600,400 600,0 0,0 \n",
       "  \" fill=\"#ffffff\" fill-opacity=\"1\"/>\n",
       "<defs>\n",
       "  <clipPath id=\"clip01\">\n",
       "    <rect x=\"120\" y=\"0\" width=\"421\" height=\"400\"/>\n",
       "  </clipPath>\n",
       "</defs>\n",
       "<polygon clip-path=\"url(#clip00)\" points=\"\n",
       "58.1864,360.065 580.315,360.065 580.315,31.4961 58.1864,31.4961 \n",
       "  \" fill=\"#ffffff\" fill-opacity=\"1\"/>\n",
       "<defs>\n",
       "  <clipPath id=\"clip02\">\n",
       "    <rect x=\"58\" y=\"31\" width=\"523\" height=\"330\"/>\n",
       "  </clipPath>\n",
       "</defs>\n",
       "<polyline clip-path=\"url(#clip02)\" style=\"stroke:#000000; stroke-width:0.5; stroke-opacity:0.1; fill:none\" points=\"\n",
       "  58.1864,355.137 58.1864,36.4246 \n",
       "  \"/>\n",
       "<polyline clip-path=\"url(#clip02)\" style=\"stroke:#000000; stroke-width:0.5; stroke-opacity:0.1; fill:none\" points=\"\n",
       "  232.229,355.137 232.229,36.4246 \n",
       "  \"/>\n",
       "<polyline clip-path=\"url(#clip02)\" style=\"stroke:#000000; stroke-width:0.5; stroke-opacity:0.1; fill:none\" points=\"\n",
       "  406.272,355.137 406.272,36.4246 \n",
       "  \"/>\n",
       "<polyline clip-path=\"url(#clip02)\" style=\"stroke:#000000; stroke-width:0.5; stroke-opacity:0.1; fill:none\" points=\"\n",
       "  580.315,355.137 580.315,36.4246 \n",
       "  \"/>\n",
       "<polyline clip-path=\"url(#clip02)\" style=\"stroke:#000000; stroke-width:0.5; stroke-opacity:0.1; fill:none\" points=\"\n",
       "  66.0184,318.994 572.483,318.994 \n",
       "  \"/>\n",
       "<polyline clip-path=\"url(#clip02)\" style=\"stroke:#000000; stroke-width:0.5; stroke-opacity:0.1; fill:none\" points=\"\n",
       "  66.0184,236.852 572.483,236.852 \n",
       "  \"/>\n",
       "<polyline clip-path=\"url(#clip02)\" style=\"stroke:#000000; stroke-width:0.5; stroke-opacity:0.1; fill:none\" points=\"\n",
       "  66.0184,154.71 572.483,154.71 \n",
       "  \"/>\n",
       "<polyline clip-path=\"url(#clip02)\" style=\"stroke:#000000; stroke-width:0.5; stroke-opacity:0.1; fill:none\" points=\"\n",
       "  66.0184,72.5672 572.483,72.5672 \n",
       "  \"/>\n",
       "<polyline clip-path=\"url(#clip00)\" style=\"stroke:#000000; stroke-width:1; stroke-opacity:1; fill:none\" points=\"\n",
       "  58.1864,360.065 580.315,360.065 \n",
       "  \"/>\n",
       "<polyline clip-path=\"url(#clip00)\" style=\"stroke:#000000; stroke-width:1; stroke-opacity:1; fill:none\" points=\"\n",
       "  58.1864,360.065 58.1864,31.4961 \n",
       "  \"/>\n",
       "<polyline clip-path=\"url(#clip00)\" style=\"stroke:#000000; stroke-width:1; stroke-opacity:1; fill:none\" points=\"\n",
       "  58.1864,360.065 58.1864,355.137 \n",
       "  \"/>\n",
       "<polyline clip-path=\"url(#clip00)\" style=\"stroke:#000000; stroke-width:1; stroke-opacity:1; fill:none\" points=\"\n",
       "  232.229,360.065 232.229,355.137 \n",
       "  \"/>\n",
       "<polyline clip-path=\"url(#clip00)\" style=\"stroke:#000000; stroke-width:1; stroke-opacity:1; fill:none\" points=\"\n",
       "  406.272,360.065 406.272,355.137 \n",
       "  \"/>\n",
       "<polyline clip-path=\"url(#clip00)\" style=\"stroke:#000000; stroke-width:1; stroke-opacity:1; fill:none\" points=\"\n",
       "  580.315,360.065 580.315,355.137 \n",
       "  \"/>\n",
       "<polyline clip-path=\"url(#clip00)\" style=\"stroke:#000000; stroke-width:1; stroke-opacity:1; fill:none\" points=\"\n",
       "  58.1864,318.994 66.0184,318.994 \n",
       "  \"/>\n",
       "<polyline clip-path=\"url(#clip00)\" style=\"stroke:#000000; stroke-width:1; stroke-opacity:1; fill:none\" points=\"\n",
       "  58.1864,236.852 66.0184,236.852 \n",
       "  \"/>\n",
       "<polyline clip-path=\"url(#clip00)\" style=\"stroke:#000000; stroke-width:1; stroke-opacity:1; fill:none\" points=\"\n",
       "  58.1864,154.71 66.0184,154.71 \n",
       "  \"/>\n",
       "<polyline clip-path=\"url(#clip00)\" style=\"stroke:#000000; stroke-width:1; stroke-opacity:1; fill:none\" points=\"\n",
       "  58.1864,72.5672 66.0184,72.5672 \n",
       "  \"/>\n",
       "<g clip-path=\"url(#clip00)\">\n",
       "<text style=\"fill:#000000; fill-opacity:1; font-family:Arial,Helvetica Neue,Helvetica,sans-serif; font-size:12; text-anchor:middle;\" transform=\"rotate(0, 58.1864, 373.865)\" x=\"58.1864\" y=\"373.865\">0</text>\n",
       "</g>\n",
       "<g clip-path=\"url(#clip00)\">\n",
       "<text style=\"fill:#000000; fill-opacity:1; font-family:Arial,Helvetica Neue,Helvetica,sans-serif; font-size:12; text-anchor:middle;\" transform=\"rotate(0, 232.229, 373.865)\" x=\"232.229\" y=\"373.865\">500</text>\n",
       "</g>\n",
       "<g clip-path=\"url(#clip00)\">\n",
       "<text style=\"fill:#000000; fill-opacity:1; font-family:Arial,Helvetica Neue,Helvetica,sans-serif; font-size:12; text-anchor:middle;\" transform=\"rotate(0, 406.272, 373.865)\" x=\"406.272\" y=\"373.865\">1000</text>\n",
       "</g>\n",
       "<g clip-path=\"url(#clip00)\">\n",
       "<text style=\"fill:#000000; fill-opacity:1; font-family:Arial,Helvetica Neue,Helvetica,sans-serif; font-size:12; text-anchor:middle;\" transform=\"rotate(0, 580.315, 373.865)\" x=\"580.315\" y=\"373.865\">1500</text>\n",
       "</g>\n",
       "<g clip-path=\"url(#clip00)\">\n",
       "<text style=\"fill:#000000; fill-opacity:1; font-family:Arial,Helvetica Neue,Helvetica,sans-serif; font-size:12; text-anchor:end;\" transform=\"rotate(0, 52.1864, 323.494)\" x=\"52.1864\" y=\"323.494\">-400</text>\n",
       "</g>\n",
       "<g clip-path=\"url(#clip00)\">\n",
       "<text style=\"fill:#000000; fill-opacity:1; font-family:Arial,Helvetica Neue,Helvetica,sans-serif; font-size:12; text-anchor:end;\" transform=\"rotate(0, 52.1864, 241.352)\" x=\"52.1864\" y=\"241.352\">-200</text>\n",
       "</g>\n",
       "<g clip-path=\"url(#clip00)\">\n",
       "<text style=\"fill:#000000; fill-opacity:1; font-family:Arial,Helvetica Neue,Helvetica,sans-serif; font-size:12; text-anchor:end;\" transform=\"rotate(0, 52.1864, 159.21)\" x=\"52.1864\" y=\"159.21\">0</text>\n",
       "</g>\n",
       "<g clip-path=\"url(#clip00)\">\n",
       "<text style=\"fill:#000000; fill-opacity:1; font-family:Arial,Helvetica Neue,Helvetica,sans-serif; font-size:12; text-anchor:end;\" transform=\"rotate(0, 52.1864, 77.0672)\" x=\"52.1864\" y=\"77.0672\">200</text>\n",
       "</g>\n",
       "<g clip-path=\"url(#clip00)\">\n",
       "<text style=\"fill:#000000; fill-opacity:1; font-family:Arial,Helvetica Neue,Helvetica,sans-serif; font-size:21; text-anchor:middle;\" transform=\"rotate(0, 319.251, 18)\" x=\"319.251\" y=\"18\">tiro p</text>\n",
       "</g>\n",
       "<g clip-path=\"url(#clip00)\">\n",
       "<text style=\"fill:#000000; fill-opacity:1; font-family:Arial,Helvetica Neue,Helvetica,sans-serif; font-size:16; text-anchor:middle;\" transform=\"rotate(0, 319.251, 397.6)\" x=\"319.251\" y=\"397.6\">posicion en x (m)</text>\n",
       "</g>\n",
       "<g clip-path=\"url(#clip00)\">\n",
       "<text style=\"fill:#000000; fill-opacity:1; font-family:Arial,Helvetica Neue,Helvetica,sans-serif; font-size:16; text-anchor:middle;\" transform=\"rotate(-90, 14.4, 195.781)\" x=\"14.4\" y=\"195.781\">posicion en y (m)</text>\n",
       "</g>\n",
       "<polygon clip-path=\"url(#clip00)\" points=\"\n",
       "489.799,82.6161 562.315,82.6161 562.315,52.3761 489.799,52.3761 \n",
       "  \" fill=\"#ffffff\" fill-opacity=\"1\"/>\n",
       "<polyline clip-path=\"url(#clip00)\" style=\"stroke:#000000; stroke-width:1; stroke-opacity:1; fill:none\" points=\"\n",
       "  489.799,82.6161 562.315,82.6161 562.315,52.3761 489.799,52.3761 489.799,82.6161 \n",
       "  \"/>\n",
       "<polyline clip-path=\"url(#clip00)\" style=\"stroke:#009af9; stroke-width:1; stroke-opacity:1; fill:none\" points=\"\n",
       "  495.799,67.4961 531.799,67.4961 \n",
       "  \"/>\n",
       "<g clip-path=\"url(#clip00)\">\n",
       "<text style=\"fill:#000000; fill-opacity:1; font-family:Arial,Helvetica Neue,Helvetica,sans-serif; font-size:12; text-anchor:start;\" transform=\"rotate(0, 537.799, 71.9961)\" x=\"537.799\" y=\"71.9961\">y1</text>\n",
       "</g>\n",
       "</svg>\n"
      ]
     },
     "execution_count": 28,
     "metadata": {},
     "output_type": "execute_result"
    }
   ],
   "source": [
    "plt = plot(1,xlim=(0,1500),ylim=(-500,300),xlab=\"posicion en x (m)\",ylab=\"posicion en y (m)\",title=\"tiro p\")"
   ]
  },
  {
   "cell_type": "code",
   "execution_count": 30,
   "metadata": {},
   "outputs": [
    {
     "name": "stderr",
     "output_type": "stream",
     "text": [
      "\u001b[1m\u001b[36mINFO: \u001b[39m\u001b[22m\u001b[36mSaved animation to /home/juser/tmp.gif\n",
      "\u001b[39m"
     ]
    },
    {
     "data": {
      "text/html": [
       "<img src=\"tmp.gif?0.07912528181147782>\" />"
      ],
      "text/plain": [
       "Plots.AnimatedGif(\"/home/juser/tmp.gif\")"
      ]
     },
     "execution_count": 30,
     "metadata": {},
     "output_type": "execute_result"
    }
   ],
   "source": [
    "@gif for i in eachindex(t)\n",
    "    x = v_0*cos(θ)*t[i]\n",
    "    y = (-(0.5*g*t[i]^2)+v_0*sin(θ)*t[i])\n",
    "    push!(plt,x,y)\n",
    "    end every 2\n",
    "# usamos la funcion gif justo para que la grafica se vea en forma de gif, graficando de nuevo las fucniones x e y "
   ]
  },
  {
   "cell_type": "code",
   "execution_count": 31,
   "metadata": {},
   "outputs": [
    {
     "ename": "LoadError",
     "evalue": "\u001b[91mArgumentError: Module interact not found in current path.\nRun `Pkg.add(\"interact\")` to install the interact package.\u001b[39m",
     "output_type": "error",
     "traceback": [
      "\u001b[91mArgumentError: Module interact not found in current path.\nRun `Pkg.add(\"interact\")` to install the interact package.\u001b[39m",
      "",
      "Stacktrace:",
      " [1] \u001b[1m_require\u001b[22m\u001b[22m\u001b[1m(\u001b[22m\u001b[22m::Symbol\u001b[1m)\u001b[22m\u001b[22m at \u001b[1m./loading.jl:428\u001b[22m\u001b[22m",
      " [2] \u001b[1mrequire\u001b[22m\u001b[22m\u001b[1m(\u001b[22m\u001b[22m::Symbol\u001b[1m)\u001b[22m\u001b[22m at \u001b[1m./loading.jl:398\u001b[22m\u001b[22m",
      " [3] \u001b[1minclude_string\u001b[22m\u001b[22m\u001b[1m(\u001b[22m\u001b[22m::String, ::String\u001b[1m)\u001b[22m\u001b[22m at \u001b[1m./loading.jl:515\u001b[22m\u001b[22m"
     ]
    }
   ],
   "source": [
    "using interact"
   ]
  },
  {
   "cell_type": "code",
   "execution_count": null,
   "metadata": {},
   "outputs": [],
   "source": []
  }
 ],
 "metadata": {
  "kernelspec": {
   "display_name": "Julia 0.6.0",
   "language": "julia",
   "name": "julia-0.6"
  },
  "language_info": {
   "file_extension": ".jl",
   "mimetype": "application/julia",
   "name": "julia",
   "version": "0.6.0"
  }
 },
 "nbformat": 4,
 "nbformat_minor": 2
}
